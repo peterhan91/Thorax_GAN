{
 "cells": [
  {
   "cell_type": "code",
   "execution_count": 1,
   "metadata": {},
   "outputs": [],
   "source": [
    "import torch\n",
    "import os\n",
    "import pandas as pd\n",
    "import cxr_dataset as CXR\n",
    "from torchvision import transforms, utils\n",
    "from torch.utils.data import Dataset, DataLoader\n",
    "\n",
    "import matplotlib.pyplot as plt\n",
    "import sklearn\n",
    "import sklearn.metrics as sklm\n",
    "from torch.autograd import Variable\n",
    "import numpy as np\n",
    "import warnings\n",
    "import datetime\n",
    "date_object = datetime.date.today()\n",
    "\n",
    "from IPython.core.interactiveshell import InteractiveShell\n",
    "InteractiveShell.ast_node_interactivity = \"all\"\n",
    "warnings.filterwarnings(\"ignore\")"
   ]
  },
  {
   "cell_type": "code",
   "execution_count": 9,
   "metadata": {
    "scrolled": true
   },
   "outputs": [],
   "source": [
    "path_to_images = 'C:/NIH/co_occurrence_200/Cardiomegaly/2/'\n",
    "mean = [0.485, 0.456, 0.406]\n",
    "std = [0.229, 0.224, 0.225]\n",
    "data_transforms = {\n",
    "        'val': transforms.Compose([\n",
    "            transforms.Scale(224),\n",
    "            transforms.CenterCrop(224),\n",
    "            transforms.ToTensor(),\n",
    "            transforms.Normalize(mean, std)\n",
    "        ])\n",
    "    }\n",
    "checkpoint_best = torch.load('checkpoint')\n",
    "model = checkpoint_best['model']"
   ]
  },
  {
   "cell_type": "code",
   "execution_count": 2,
   "metadata": {},
   "outputs": [],
   "source": [
    "import re\n",
    "\n",
    "digits = re.compile(r'(\\d+)')\n",
    "def tokenize(filename):\n",
    "    return tuple(int(token) if match else token\n",
    "                 for token, match in\n",
    "                 ((fragment, digits.search(fragment))\n",
    "                  for fragment in digits.split(filename)))"
   ]
  },
  {
   "cell_type": "code",
   "execution_count": 3,
   "metadata": {},
   "outputs": [],
   "source": [
    "def make_pred_multilabel(data_transforms, model, PATH_TO_IMAGES):\n",
    "    \"\"\"\n",
    "    Gives predictions for test fold and calculates AUCs using previously trained model\n",
    "\n",
    "    Args:\n",
    "        data_transforms: torchvision transforms to preprocess raw images; same as validation transforms\n",
    "        model: densenet-121 from torchvision previously fine tuned to training data\n",
    "        PATH_TO_IMAGES: path at which NIH images can be found\n",
    "    Returns:\n",
    "        pred_df: dataframe containing individual predictions and ground truth for each test image\n",
    "        auc_df: dataframe containing aggregate AUCs by train/test tuples\n",
    "    \"\"\"\n",
    "\n",
    "    # calc preds in batches of 16, can reduce if your GPU has less RAM\n",
    "    BATCH_SIZE = 4\n",
    "\n",
    "    # set model to eval mode; required for proper predictions given use of batchnorm\n",
    "    model.train(False)\n",
    "\n",
    "    # create dataloader\n",
    "    dataset = CXR.CXRDataset(\n",
    "        path_to_images=PATH_TO_IMAGES,\n",
    "        fold=\"test\",\n",
    "        transform=data_transforms['val'])\n",
    "    \n",
    "    dataloader = torch.utils.data.DataLoader(\n",
    "        dataset, BATCH_SIZE, shuffle=False, num_workers=16)\n",
    "    size = len(dataset)\n",
    "\n",
    "    # create empty dfs\n",
    "    pred_df = pd.DataFrame(columns=[\"Image Index\"])\n",
    "    true_df = pd.DataFrame(columns=[\"Image Index\"])\n",
    "\n",
    "    # iterate over dataloader\n",
    "    for i, data in enumerate(dataloader):\n",
    "\n",
    "        inputs, labels, _ = data\n",
    "        inputs, labels = Variable(inputs.cuda()), Variable(labels.cuda())\n",
    "\n",
    "        true_labels = labels.cpu().data.numpy()\n",
    "        batch_size = true_labels.shape\n",
    "        #print(inputs.shape)\n",
    "        outputs = model(inputs)\n",
    "        probs = outputs.cpu().data.numpy()\n",
    "\n",
    "        # get predictions and true values for each item in batch\n",
    "        for j in range(0, batch_size[0]):\n",
    "            thisrow = {}\n",
    "            truerow = {}\n",
    "            thisrow[\"Image Index\"] = dataset.df.index[BATCH_SIZE * i + j]\n",
    "            truerow[\"Image Index\"] = dataset.df.index[BATCH_SIZE * i + j]\n",
    "\n",
    "            # iterate over each entry in prediction vector; each corresponds to\n",
    "            # individual label\n",
    "            for k in range(len(dataset.PRED_LABEL)):\n",
    "                thisrow[\"prob_\" + dataset.PRED_LABEL[k]] = probs[j, k]\n",
    "                truerow[dataset.PRED_LABEL[k]] = true_labels[j, k]\n",
    "\n",
    "            pred_df = pred_df.append(thisrow, ignore_index=True)\n",
    "            true_df = true_df.append(truerow, ignore_index=True)\n",
    "\n",
    "    #save_pred = os.path.join(PATH_TO_IMAGES, 'preds.csv')\n",
    "    #pred_df.to_csv(save_pred, index=False)\n",
    "    return pred_df"
   ]
  },
  {
   "cell_type": "code",
   "execution_count": 10,
   "metadata": {
    "scrolled": true
   },
   "outputs": [],
   "source": [
    "pred_df = make_pred_multilabel(data_transforms, model, path_to_images)"
   ]
  },
  {
   "cell_type": "code",
   "execution_count": 11,
   "metadata": {},
   "outputs": [],
   "source": [
    "mean = pred_df.mean(axis=0)\n",
    "std = pred_df.std(axis=0)"
   ]
  },
  {
   "cell_type": "code",
   "execution_count": 12,
   "metadata": {},
   "outputs": [
    {
     "data": {
      "text/plain": [
       "prob_Atelectasis           0.042709\n",
       "prob_Cardiomegaly          0.066287\n",
       "prob_Consolidation         0.011254\n",
       "prob_Edema                 0.005154\n",
       "prob_Effusion              0.025521\n",
       "prob_Emphysema             0.010015\n",
       "prob_Fibrosis              0.010057\n",
       "prob_Hernia                0.002690\n",
       "prob_Infiltration          0.098334\n",
       "prob_Mass                  0.011402\n",
       "prob_Nodule                0.025742\n",
       "prob_Pleural_Thickening    0.012366\n",
       "prob_Pneumonia             0.005854\n",
       "prob_Pneumothorax          0.013581\n",
       "dtype: float64"
      ]
     },
     "execution_count": 12,
     "metadata": {},
     "output_type": "execute_result"
    },
    {
     "data": {
      "text/plain": [
       "prob_Atelectasis           0.042749\n",
       "prob_Cardiomegaly          0.131072\n",
       "prob_Consolidation         0.016780\n",
       "prob_Edema                 0.009952\n",
       "prob_Effusion              0.031421\n",
       "prob_Emphysema             0.020381\n",
       "prob_Fibrosis              0.014974\n",
       "prob_Hernia                0.003500\n",
       "prob_Infiltration          0.064581\n",
       "prob_Mass                  0.040771\n",
       "prob_Nodule                0.022362\n",
       "prob_Pleural_Thickening    0.018220\n",
       "prob_Pneumonia             0.005022\n",
       "prob_Pneumothorax          0.022598\n",
       "dtype: float64"
      ]
     },
     "execution_count": 12,
     "metadata": {},
     "output_type": "execute_result"
    }
   ],
   "source": [
    "mean\n",
    "std"
   ]
  },
  {
   "cell_type": "code",
   "execution_count": 30,
   "metadata": {},
   "outputs": [
    {
     "data": {
      "text/html": [
       "<div>\n",
       "<style scoped>\n",
       "    .dataframe tbody tr th:only-of-type {\n",
       "        vertical-align: middle;\n",
       "    }\n",
       "\n",
       "    .dataframe tbody tr th {\n",
       "        vertical-align: top;\n",
       "    }\n",
       "\n",
       "    .dataframe thead th {\n",
       "        text-align: right;\n",
       "    }\n",
       "</style>\n",
       "<table border=\"1\" class=\"dataframe\">\n",
       "  <thead>\n",
       "    <tr style=\"text-align: right;\">\n",
       "      <th></th>\n",
       "      <th>pathology</th>\n",
       "      <th>mean_1</th>\n",
       "      <th>std_1</th>\n",
       "    </tr>\n",
       "  </thead>\n",
       "  <tbody>\n",
       "    <tr>\n",
       "      <th>0</th>\n",
       "      <td>prob_Atelectasis</td>\n",
       "      <td>0.042867</td>\n",
       "      <td>0.047457</td>\n",
       "    </tr>\n",
       "    <tr>\n",
       "      <th>1</th>\n",
       "      <td>prob_Cardiomegaly</td>\n",
       "      <td>0.032924</td>\n",
       "      <td>0.071254</td>\n",
       "    </tr>\n",
       "    <tr>\n",
       "      <th>2</th>\n",
       "      <td>prob_Consolidation</td>\n",
       "      <td>0.009960</td>\n",
       "      <td>0.010439</td>\n",
       "    </tr>\n",
       "    <tr>\n",
       "      <th>3</th>\n",
       "      <td>prob_Edema</td>\n",
       "      <td>0.004741</td>\n",
       "      <td>0.013925</td>\n",
       "    </tr>\n",
       "    <tr>\n",
       "      <th>4</th>\n",
       "      <td>prob_Effusion</td>\n",
       "      <td>0.021881</td>\n",
       "      <td>0.033795</td>\n",
       "    </tr>\n",
       "  </tbody>\n",
       "</table>\n",
       "</div>"
      ],
      "text/plain": [
       "            pathology    mean_1     std_1\n",
       "0    prob_Atelectasis  0.042867  0.047457\n",
       "1   prob_Cardiomegaly  0.032924  0.071254\n",
       "2  prob_Consolidation  0.009960  0.010439\n",
       "3          prob_Edema  0.004741  0.013925\n",
       "4       prob_Effusion  0.021881  0.033795"
      ]
     },
     "execution_count": 30,
     "metadata": {},
     "output_type": "execute_result"
    }
   ],
   "source": [
    "result_df = pd.DataFrame()\n",
    "result_df['pathology'] = pred_df.columns[1:].values \n",
    "result_df['mean_1'] = mean_1.values\n",
    "result_df['std_1'] = std_1.values\n",
    "result_df.head()"
   ]
  },
  {
   "cell_type": "markdown",
   "metadata": {},
   "source": [
    "## In all check"
   ]
  },
  {
   "cell_type": "code",
   "execution_count": 4,
   "metadata": {},
   "outputs": [],
   "source": [
    "mean = [0.485, 0.456, 0.406]\n",
    "std = [0.229, 0.224, 0.225]\n",
    "data_transforms = {\n",
    "        'val': transforms.Compose([\n",
    "            transforms.Scale(224),\n",
    "            transforms.CenterCrop(224),\n",
    "            transforms.ToTensor(),\n",
    "            transforms.Normalize(mean, std)\n",
    "        ])\n",
    "    }\n",
    "checkpoint_best = torch.load('checkpoint')\n",
    "model = checkpoint_best['model']\n",
    "\n",
    "PRED_LABEL = [\n",
    "            'Atelectasis',\n",
    "            'Cardiomegaly',\n",
    "            'Effusion',\n",
    "            'Infiltration',\n",
    "            'Mass',\n",
    "            'Nodule',\n",
    "            'Pneumonia',\n",
    "            'Pneumothorax',\n",
    "            'Consolidation',\n",
    "            'Edema',\n",
    "            'Emphysema',\n",
    "            'Fibrosis',\n",
    "            'Pleural_Thickening',\n",
    "            'Hernia']"
   ]
  },
  {
   "cell_type": "code",
   "execution_count": 1,
   "metadata": {
    "scrolled": true
   },
   "outputs": [
    {
     "ename": "NameError",
     "evalue": "name 'PRED_LABEL' is not defined",
     "output_type": "error",
     "traceback": [
      "\u001b[1;31m---------------------------------------------------------------------------\u001b[0m",
      "\u001b[1;31mNameError\u001b[0m                                 Traceback (most recent call last)",
      "\u001b[1;32m<ipython-input-1-1d84eb2c4e47>\u001b[0m in \u001b[0;36m<module>\u001b[1;34m\u001b[0m\n\u001b[1;32m----> 1\u001b[1;33m \u001b[1;32mfor\u001b[0m \u001b[0mlabel\u001b[0m \u001b[1;32min\u001b[0m \u001b[0mPRED_LABEL\u001b[0m\u001b[1;33m:\u001b[0m\u001b[1;33m\u001b[0m\u001b[1;33m\u001b[0m\u001b[0m\n\u001b[0m\u001b[0;32m      2\u001b[0m     \u001b[0mbase_dir\u001b[0m \u001b[1;33m=\u001b[0m \u001b[1;34m'C:/NIH/co_occurrence/'\u001b[0m\u001b[1;33m\u001b[0m\u001b[1;33m\u001b[0m\u001b[0m\n\u001b[0;32m      3\u001b[0m     \u001b[0mpath_base\u001b[0m \u001b[1;33m=\u001b[0m \u001b[0mos\u001b[0m\u001b[1;33m.\u001b[0m\u001b[0mpath\u001b[0m\u001b[1;33m.\u001b[0m\u001b[0mjoin\u001b[0m\u001b[1;33m(\u001b[0m\u001b[0mbase_dir\u001b[0m\u001b[1;33m,\u001b[0m \u001b[0mlabel\u001b[0m\u001b[1;33m)\u001b[0m\u001b[1;33m\u001b[0m\u001b[1;33m\u001b[0m\u001b[0m\n\u001b[0;32m      4\u001b[0m     \u001b[0mpath_list\u001b[0m \u001b[1;33m=\u001b[0m \u001b[0mos\u001b[0m\u001b[1;33m.\u001b[0m\u001b[0mlistdir\u001b[0m\u001b[1;33m(\u001b[0m\u001b[0mpath_base\u001b[0m\u001b[1;33m)\u001b[0m\u001b[1;33m\u001b[0m\u001b[1;33m\u001b[0m\u001b[0m\n\u001b[0;32m      5\u001b[0m     \u001b[0mpath_list\u001b[0m\u001b[1;33m.\u001b[0m\u001b[0msort\u001b[0m\u001b[1;33m(\u001b[0m\u001b[0mkey\u001b[0m\u001b[1;33m=\u001b[0m\u001b[0mtokenize\u001b[0m\u001b[1;33m)\u001b[0m\u001b[1;33m\u001b[0m\u001b[1;33m\u001b[0m\u001b[0m\n",
      "\u001b[1;31mNameError\u001b[0m: name 'PRED_LABEL' is not defined"
     ]
    }
   ],
   "source": [
    "for label in PRED_LABEL:\n",
    "    base_dir = 'C:/NIH/co_occurrence/'\n",
    "    path_base = os.path.join(base_dir, label)\n",
    "    path_list = os.listdir(path_base)\n",
    "    path_list.sort(key=tokenize)\n",
    "    result_mean = pd.DataFrame()\n",
    "    result_mean['pathology'] = new_row_name\n",
    "    result_std = pd.DataFrame()\n",
    "    result_std['pathology'] = new_row_name\n",
    "    Pathology_result_df = pd.DataFrame()\n",
    "    \n",
    "    for n in range (len(path_list)):\n",
    "        path_to_images = os.path.join(path_base, path_list[n])\n",
    "        pred_df = make_pred_multilabel(data_transforms, model, path_to_images)\n",
    "        pred_df['Image Index'] = str(n)+'_'+pred_df['Image Index']\n",
    "        Pathology_result_df = Pathology_result_df.append(pred_df)\n",
    "        print(len(Pathology_result_df))\n",
    "        mean = pred_df.mean(axis=0)\n",
    "        std = pred_df.sem(axis=0)\n",
    "        mean_name = 'mean_' + str(n)\n",
    "        std_name = 'std_'+str(n)\n",
    "        result_mean[mean_name] = mean.values\n",
    "        result_std[std_name] = std.values\n",
    "        \n",
    "    ############### save classification mean and std as .csv files ################\n",
    "    result_mean = result_mean.T\n",
    "    result_std = result_std.T\n",
    "    result_basedir = 'C:/Users/peter/2080Ti/Jupyter/Fabian_experiment/result'\n",
    "    result_dir = os.path.join(result_basedir, label)\n",
    "    if not os.path.exists(result_dir):\n",
    "        os.makedirs(result_dir)\n",
    "    mean_path = os.path.join(result_dir, 'mean.csv')\n",
    "    std_path = os.path.join(result_dir, 'std.csv')\n",
    "    result_path = os.path.join(result_dir, label+'_result.csv')\n",
    "    result_mean.to_csv(mean_path, index=False)\n",
    "    result_std.to_csv(std_path, index=False)\n",
    "    Pathology_result_df.to_csv(result_path, index=False)\n",
    "    \n",
    "    ################ plot the results with error bar #################\n",
    "    result_mean = pd.read_csv(mean_path, header = 0)\n",
    "    result_std = pd.read_csv(std_path, header = 0)\n",
    "    result_mean.columns = result_mean.iloc[0]\n",
    "    result_std.columns = result_std.iloc[0]\n",
    "    result_mean = result_mean.drop(result_mean.index[0])\n",
    "    result_std = result_std.drop(result_std.index[0])\n",
    "    \n",
    "    fig, axs = plt.subplots(nrows=2, ncols=7, sharex=True)\n",
    "    fig.set_size_inches(35.5, 15.5)\n",
    "    count_num = 0\n",
    "    x = np.arange(11) \n",
    "    x = x / 10 \n",
    "    for i in range(2):\n",
    "        for j in range(7):\n",
    "            ax = axs[i,j]\n",
    "            pathology = PRED_LABEL[count_num]\n",
    "            y = result_mean[pathology].values.astype(float)\n",
    "            yerr = result_std[pathology].values.astype(float)\n",
    "            ax.errorbar(x, y, yerr=yerr, fmt='-o', ecolor='g', capsize=6)\n",
    "            ax.set_yscale('log')\n",
    "            ax.set_xlim([0.0, 1.0])\n",
    "            ax.set_ylim([0.001, 1.0])\n",
    "            ax.set_xlabel(label)\n",
    "            ax.set_ylabel(pathology)\n",
    "            count_num += 1\n",
    "    \n",
    "    fig_path = os.path.join(result_dir, 'figure.pdf')\n",
    "    fig.savefig(fig_path)   # save the figure to file\n",
    "    plt.close(fig)"
   ]
  },
  {
   "cell_type": "code",
   "execution_count": 3,
   "metadata": {},
   "outputs": [],
   "source": [
    "result_mean = pd.read_csv('C:/Users/peter/2080Ti/Jupyter/Fabian_experiment/result/Atelectasis/mean.csv', header = 0)\n",
    "result_std = pd.read_csv('C:/Users/peter/2080Ti/Jupyter/Fabian_experiment/result/Atelectasis/std.csv', header = 0)\n",
    "result_mean.columns = result_mean.iloc[0]\n",
    "result_std.columns = result_std.iloc[0]"
   ]
  },
  {
   "cell_type": "code",
   "execution_count": 4,
   "metadata": {},
   "outputs": [],
   "source": [
    "result_mean = result_mean.drop(result_mean.index[0])\n",
    "result_std = result_std.drop(result_std.index[0])"
   ]
  },
  {
   "cell_type": "code",
   "execution_count": 5,
   "metadata": {},
   "outputs": [
    {
     "data": {
      "text/html": [
       "<div>\n",
       "<style scoped>\n",
       "    .dataframe tbody tr th:only-of-type {\n",
       "        vertical-align: middle;\n",
       "    }\n",
       "\n",
       "    .dataframe tbody tr th {\n",
       "        vertical-align: top;\n",
       "    }\n",
       "\n",
       "    .dataframe thead th {\n",
       "        text-align: right;\n",
       "    }\n",
       "</style>\n",
       "<table border=\"1\" class=\"dataframe\">\n",
       "  <thead>\n",
       "    <tr style=\"text-align: right;\">\n",
       "      <th></th>\n",
       "      <th>Atelectasis</th>\n",
       "      <th>Cardiomegaly</th>\n",
       "      <th>Consolidation</th>\n",
       "      <th>Edema</th>\n",
       "      <th>Effusion</th>\n",
       "      <th>Emphysema</th>\n",
       "      <th>Fibrosis</th>\n",
       "      <th>Hernia</th>\n",
       "      <th>Infiltration</th>\n",
       "      <th>Mass</th>\n",
       "      <th>Nodule</th>\n",
       "      <th>Pleural_Thickening</th>\n",
       "      <th>Pneumonia</th>\n",
       "      <th>Pneumothorax</th>\n",
       "    </tr>\n",
       "  </thead>\n",
       "  <tbody>\n",
       "    <tr>\n",
       "      <th>1</th>\n",
       "      <td>0.04417280027270317</td>\n",
       "      <td>0.015490100844483094</td>\n",
       "      <td>0.01028445554804057</td>\n",
       "      <td>0.004566991829139624</td>\n",
       "      <td>0.018658037263026925</td>\n",
       "      <td>0.014576443217003543</td>\n",
       "      <td>0.011218639676371822</td>\n",
       "      <td>0.0023653439330755645</td>\n",
       "      <td>0.10203665262996219</td>\n",
       "      <td>0.010935116797976662</td>\n",
       "      <td>0.029706211926997638</td>\n",
       "      <td>0.013346772375356522</td>\n",
       "      <td>0.005161529802542646</td>\n",
       "      <td>0.01663093110941554</td>\n",
       "    </tr>\n",
       "    <tr>\n",
       "      <th>2</th>\n",
       "      <td>0.05133340500399936</td>\n",
       "      <td>0.017548011407530793</td>\n",
       "      <td>0.010833645381731913</td>\n",
       "      <td>0.004809972963407745</td>\n",
       "      <td>0.02147148123946681</td>\n",
       "      <td>0.01345875039609382</td>\n",
       "      <td>0.011480201922444394</td>\n",
       "      <td>0.0026331731246864365</td>\n",
       "      <td>0.10280980482674204</td>\n",
       "      <td>0.010306317904760363</td>\n",
       "      <td>0.02899315392342396</td>\n",
       "      <td>0.013483969645691105</td>\n",
       "      <td>0.005474598091066582</td>\n",
       "      <td>0.016236071591454675</td>\n",
       "    </tr>\n",
       "    <tr>\n",
       "      <th>3</th>\n",
       "      <td>0.06212831953307614</td>\n",
       "      <td>0.02020196423226116</td>\n",
       "      <td>0.011650996009469963</td>\n",
       "      <td>0.004840594464799324</td>\n",
       "      <td>0.023886724215117283</td>\n",
       "      <td>0.013880776202593552</td>\n",
       "      <td>0.01173535860501579</td>\n",
       "      <td>0.0029621481352041885</td>\n",
       "      <td>0.10453268180740997</td>\n",
       "      <td>0.009961529862310272</td>\n",
       "      <td>0.02829992561088875</td>\n",
       "      <td>0.01337649139892892</td>\n",
       "      <td>0.005756405192136299</td>\n",
       "      <td>0.016441595223761398</td>\n",
       "    </tr>\n",
       "    <tr>\n",
       "      <th>4</th>\n",
       "      <td>0.07441278726339806</td>\n",
       "      <td>0.021665478731125405</td>\n",
       "      <td>0.012451844022027217</td>\n",
       "      <td>0.0048143884821893156</td>\n",
       "      <td>0.025998645108265918</td>\n",
       "      <td>0.013785955235194707</td>\n",
       "      <td>0.012330156575801084</td>\n",
       "      <td>0.003386281610852166</td>\n",
       "      <td>0.10582800540048629</td>\n",
       "      <td>0.009497521032608347</td>\n",
       "      <td>0.028153855546494015</td>\n",
       "      <td>0.013647460947802757</td>\n",
       "      <td>0.006128420822264161</td>\n",
       "      <td>0.016461971668788464</td>\n",
       "    </tr>\n",
       "    <tr>\n",
       "      <th>5</th>\n",
       "      <td>0.08976295194483828</td>\n",
       "      <td>0.023410912746618124</td>\n",
       "      <td>0.01338152896927204</td>\n",
       "      <td>0.004557330612125952</td>\n",
       "      <td>0.029133788735009148</td>\n",
       "      <td>0.014075217995501588</td>\n",
       "      <td>0.012629706320629338</td>\n",
       "      <td>0.003917821665683732</td>\n",
       "      <td>0.10714610248943791</td>\n",
       "      <td>0.009448757855614531</td>\n",
       "      <td>0.027181834459886887</td>\n",
       "      <td>0.013741243102005684</td>\n",
       "      <td>0.006517837517807493</td>\n",
       "      <td>0.016640606833505444</td>\n",
       "    </tr>\n",
       "  </tbody>\n",
       "</table>\n",
       "</div>"
      ],
      "text/plain": [
       "0          Atelectasis          Cardiomegaly         Consolidation  \\\n",
       "1  0.04417280027270317  0.015490100844483094   0.01028445554804057   \n",
       "2  0.05133340500399936  0.017548011407530793  0.010833645381731913   \n",
       "3  0.06212831953307614   0.02020196423226116  0.011650996009469963   \n",
       "4  0.07441278726339806  0.021665478731125405  0.012451844022027217   \n",
       "5  0.08976295194483828  0.023410912746618124   0.01338152896927204   \n",
       "\n",
       "0                  Edema              Effusion             Emphysema  \\\n",
       "1   0.004566991829139624  0.018658037263026925  0.014576443217003543   \n",
       "2   0.004809972963407745   0.02147148123946681   0.01345875039609382   \n",
       "3   0.004840594464799324  0.023886724215117283  0.013880776202593552   \n",
       "4  0.0048143884821893156  0.025998645108265918  0.013785955235194707   \n",
       "5   0.004557330612125952  0.029133788735009148  0.014075217995501588   \n",
       "\n",
       "0              Fibrosis                 Hernia         Infiltration  \\\n",
       "1  0.011218639676371822  0.0023653439330755645  0.10203665262996219   \n",
       "2  0.011480201922444394  0.0026331731246864365  0.10280980482674204   \n",
       "3   0.01173535860501579  0.0029621481352041885  0.10453268180740997   \n",
       "4  0.012330156575801084   0.003386281610852166  0.10582800540048629   \n",
       "5  0.012629706320629338   0.003917821665683732  0.10714610248943791   \n",
       "\n",
       "0                  Mass                Nodule    Pleural_Thickening  \\\n",
       "1  0.010935116797976662  0.029706211926997638  0.013346772375356522   \n",
       "2  0.010306317904760363   0.02899315392342396  0.013483969645691105   \n",
       "3  0.009961529862310272   0.02829992561088875   0.01337649139892892   \n",
       "4  0.009497521032608347  0.028153855546494015  0.013647460947802757   \n",
       "5  0.009448757855614531  0.027181834459886887  0.013741243102005684   \n",
       "\n",
       "0             Pneumonia          Pneumothorax  \n",
       "1  0.005161529802542646   0.01663093110941554  \n",
       "2  0.005474598091066582  0.016236071591454675  \n",
       "3  0.005756405192136299  0.016441595223761398  \n",
       "4  0.006128420822264161  0.016461971668788464  \n",
       "5  0.006517837517807493  0.016640606833505444  "
      ]
     },
     "execution_count": 5,
     "metadata": {},
     "output_type": "execute_result"
    }
   ],
   "source": [
    "result_mean.head()"
   ]
  },
  {
   "cell_type": "code",
   "execution_count": 12,
   "metadata": {},
   "outputs": [
    {
     "data": {
      "text/plain": [
       "0"
      ]
     },
     "execution_count": 12,
     "metadata": {},
     "output_type": "execute_result"
    },
    {
     "data": {
      "text/plain": [
       "14"
      ]
     },
     "execution_count": 12,
     "metadata": {},
     "output_type": "execute_result"
    },
    {
     "data": {
      "text/plain": [
       "0"
      ]
     },
     "execution_count": 12,
     "metadata": {},
     "output_type": "execute_result"
    }
   ],
   "source": [
    "MyEmptydf = pd.DataFrame()\n",
    "len(MyEmptydf)\n",
    "MyEmptydf = MyEmptydf.append(result_mean)\n",
    "len(MyEmptydf)\n",
    "MyEmptydf = pd.DataFrame()\n",
    "len(MyEmptydf)"
   ]
  },
  {
   "cell_type": "code",
   "execution_count": 30,
   "metadata": {
    "scrolled": true
   },
   "outputs": [
    {
     "data": {
      "text/plain": [
       "<ErrorbarContainer object of 3 artists>"
      ]
     },
     "execution_count": 30,
     "metadata": {},
     "output_type": "execute_result"
    },
    {
     "data": {
      "text/plain": [
       "(0.0, 1.0)"
      ]
     },
     "execution_count": 30,
     "metadata": {},
     "output_type": "execute_result"
    },
    {
     "data": {
      "text/plain": [
       "(0.001, 1.0)"
      ]
     },
     "execution_count": 30,
     "metadata": {},
     "output_type": "execute_result"
    },
    {
     "data": {
      "text/plain": [
       "Text(0.5, 0, 'Atelectasis')"
      ]
     },
     "execution_count": 30,
     "metadata": {},
     "output_type": "execute_result"
    },
    {
     "data": {
      "text/plain": [
       "Text(0, 0.5, 'Atelectasis')"
      ]
     },
     "execution_count": 30,
     "metadata": {},
     "output_type": "execute_result"
    },
    {
     "data": {
      "text/plain": [
       "<ErrorbarContainer object of 3 artists>"
      ]
     },
     "execution_count": 30,
     "metadata": {},
     "output_type": "execute_result"
    },
    {
     "data": {
      "text/plain": [
       "(0.0, 1.0)"
      ]
     },
     "execution_count": 30,
     "metadata": {},
     "output_type": "execute_result"
    },
    {
     "data": {
      "text/plain": [
       "(0.001, 1.0)"
      ]
     },
     "execution_count": 30,
     "metadata": {},
     "output_type": "execute_result"
    },
    {
     "data": {
      "text/plain": [
       "Text(0.5, 0, 'Atelectasis')"
      ]
     },
     "execution_count": 30,
     "metadata": {},
     "output_type": "execute_result"
    },
    {
     "data": {
      "text/plain": [
       "Text(0, 0.5, 'Cardiomegaly')"
      ]
     },
     "execution_count": 30,
     "metadata": {},
     "output_type": "execute_result"
    },
    {
     "data": {
      "text/plain": [
       "<ErrorbarContainer object of 3 artists>"
      ]
     },
     "execution_count": 30,
     "metadata": {},
     "output_type": "execute_result"
    },
    {
     "data": {
      "text/plain": [
       "(0.0, 1.0)"
      ]
     },
     "execution_count": 30,
     "metadata": {},
     "output_type": "execute_result"
    },
    {
     "data": {
      "text/plain": [
       "(0.001, 1.0)"
      ]
     },
     "execution_count": 30,
     "metadata": {},
     "output_type": "execute_result"
    },
    {
     "data": {
      "text/plain": [
       "Text(0.5, 0, 'Atelectasis')"
      ]
     },
     "execution_count": 30,
     "metadata": {},
     "output_type": "execute_result"
    },
    {
     "data": {
      "text/plain": [
       "Text(0, 0.5, 'Consolidation')"
      ]
     },
     "execution_count": 30,
     "metadata": {},
     "output_type": "execute_result"
    },
    {
     "data": {
      "text/plain": [
       "<ErrorbarContainer object of 3 artists>"
      ]
     },
     "execution_count": 30,
     "metadata": {},
     "output_type": "execute_result"
    },
    {
     "data": {
      "text/plain": [
       "(0.0, 1.0)"
      ]
     },
     "execution_count": 30,
     "metadata": {},
     "output_type": "execute_result"
    },
    {
     "data": {
      "text/plain": [
       "(0.001, 1.0)"
      ]
     },
     "execution_count": 30,
     "metadata": {},
     "output_type": "execute_result"
    },
    {
     "data": {
      "text/plain": [
       "Text(0.5, 0, 'Atelectasis')"
      ]
     },
     "execution_count": 30,
     "metadata": {},
     "output_type": "execute_result"
    },
    {
     "data": {
      "text/plain": [
       "Text(0, 0.5, 'Edema')"
      ]
     },
     "execution_count": 30,
     "metadata": {},
     "output_type": "execute_result"
    },
    {
     "data": {
      "text/plain": [
       "<ErrorbarContainer object of 3 artists>"
      ]
     },
     "execution_count": 30,
     "metadata": {},
     "output_type": "execute_result"
    },
    {
     "data": {
      "text/plain": [
       "(0.0, 1.0)"
      ]
     },
     "execution_count": 30,
     "metadata": {},
     "output_type": "execute_result"
    },
    {
     "data": {
      "text/plain": [
       "(0.001, 1.0)"
      ]
     },
     "execution_count": 30,
     "metadata": {},
     "output_type": "execute_result"
    },
    {
     "data": {
      "text/plain": [
       "Text(0.5, 0, 'Atelectasis')"
      ]
     },
     "execution_count": 30,
     "metadata": {},
     "output_type": "execute_result"
    },
    {
     "data": {
      "text/plain": [
       "Text(0, 0.5, 'Effusion')"
      ]
     },
     "execution_count": 30,
     "metadata": {},
     "output_type": "execute_result"
    },
    {
     "data": {
      "text/plain": [
       "<ErrorbarContainer object of 3 artists>"
      ]
     },
     "execution_count": 30,
     "metadata": {},
     "output_type": "execute_result"
    },
    {
     "data": {
      "text/plain": [
       "(0.0, 1.0)"
      ]
     },
     "execution_count": 30,
     "metadata": {},
     "output_type": "execute_result"
    },
    {
     "data": {
      "text/plain": [
       "(0.001, 1.0)"
      ]
     },
     "execution_count": 30,
     "metadata": {},
     "output_type": "execute_result"
    },
    {
     "data": {
      "text/plain": [
       "Text(0.5, 0, 'Atelectasis')"
      ]
     },
     "execution_count": 30,
     "metadata": {},
     "output_type": "execute_result"
    },
    {
     "data": {
      "text/plain": [
       "Text(0, 0.5, 'Emphysema')"
      ]
     },
     "execution_count": 30,
     "metadata": {},
     "output_type": "execute_result"
    },
    {
     "data": {
      "text/plain": [
       "<ErrorbarContainer object of 3 artists>"
      ]
     },
     "execution_count": 30,
     "metadata": {},
     "output_type": "execute_result"
    },
    {
     "data": {
      "text/plain": [
       "(0.0, 1.0)"
      ]
     },
     "execution_count": 30,
     "metadata": {},
     "output_type": "execute_result"
    },
    {
     "data": {
      "text/plain": [
       "(0.001, 1.0)"
      ]
     },
     "execution_count": 30,
     "metadata": {},
     "output_type": "execute_result"
    },
    {
     "data": {
      "text/plain": [
       "Text(0.5, 0, 'Atelectasis')"
      ]
     },
     "execution_count": 30,
     "metadata": {},
     "output_type": "execute_result"
    },
    {
     "data": {
      "text/plain": [
       "Text(0, 0.5, 'Fibrosis')"
      ]
     },
     "execution_count": 30,
     "metadata": {},
     "output_type": "execute_result"
    },
    {
     "data": {
      "text/plain": [
       "<ErrorbarContainer object of 3 artists>"
      ]
     },
     "execution_count": 30,
     "metadata": {},
     "output_type": "execute_result"
    },
    {
     "data": {
      "text/plain": [
       "(0.0, 1.0)"
      ]
     },
     "execution_count": 30,
     "metadata": {},
     "output_type": "execute_result"
    },
    {
     "data": {
      "text/plain": [
       "(0.001, 1.0)"
      ]
     },
     "execution_count": 30,
     "metadata": {},
     "output_type": "execute_result"
    },
    {
     "data": {
      "text/plain": [
       "Text(0.5, 0, 'Atelectasis')"
      ]
     },
     "execution_count": 30,
     "metadata": {},
     "output_type": "execute_result"
    },
    {
     "data": {
      "text/plain": [
       "Text(0, 0.5, 'Hernia')"
      ]
     },
     "execution_count": 30,
     "metadata": {},
     "output_type": "execute_result"
    },
    {
     "data": {
      "text/plain": [
       "<ErrorbarContainer object of 3 artists>"
      ]
     },
     "execution_count": 30,
     "metadata": {},
     "output_type": "execute_result"
    },
    {
     "data": {
      "text/plain": [
       "(0.0, 1.0)"
      ]
     },
     "execution_count": 30,
     "metadata": {},
     "output_type": "execute_result"
    },
    {
     "data": {
      "text/plain": [
       "(0.001, 1.0)"
      ]
     },
     "execution_count": 30,
     "metadata": {},
     "output_type": "execute_result"
    },
    {
     "data": {
      "text/plain": [
       "Text(0.5, 0, 'Atelectasis')"
      ]
     },
     "execution_count": 30,
     "metadata": {},
     "output_type": "execute_result"
    },
    {
     "data": {
      "text/plain": [
       "Text(0, 0.5, 'Infiltration')"
      ]
     },
     "execution_count": 30,
     "metadata": {},
     "output_type": "execute_result"
    },
    {
     "data": {
      "text/plain": [
       "<ErrorbarContainer object of 3 artists>"
      ]
     },
     "execution_count": 30,
     "metadata": {},
     "output_type": "execute_result"
    },
    {
     "data": {
      "text/plain": [
       "(0.0, 1.0)"
      ]
     },
     "execution_count": 30,
     "metadata": {},
     "output_type": "execute_result"
    },
    {
     "data": {
      "text/plain": [
       "(0.001, 1.0)"
      ]
     },
     "execution_count": 30,
     "metadata": {},
     "output_type": "execute_result"
    },
    {
     "data": {
      "text/plain": [
       "Text(0.5, 0, 'Atelectasis')"
      ]
     },
     "execution_count": 30,
     "metadata": {},
     "output_type": "execute_result"
    },
    {
     "data": {
      "text/plain": [
       "Text(0, 0.5, 'Mass')"
      ]
     },
     "execution_count": 30,
     "metadata": {},
     "output_type": "execute_result"
    },
    {
     "data": {
      "text/plain": [
       "<ErrorbarContainer object of 3 artists>"
      ]
     },
     "execution_count": 30,
     "metadata": {},
     "output_type": "execute_result"
    },
    {
     "data": {
      "text/plain": [
       "(0.0, 1.0)"
      ]
     },
     "execution_count": 30,
     "metadata": {},
     "output_type": "execute_result"
    },
    {
     "data": {
      "text/plain": [
       "(0.001, 1.0)"
      ]
     },
     "execution_count": 30,
     "metadata": {},
     "output_type": "execute_result"
    },
    {
     "data": {
      "text/plain": [
       "Text(0.5, 0, 'Atelectasis')"
      ]
     },
     "execution_count": 30,
     "metadata": {},
     "output_type": "execute_result"
    },
    {
     "data": {
      "text/plain": [
       "Text(0, 0.5, 'Nodule')"
      ]
     },
     "execution_count": 30,
     "metadata": {},
     "output_type": "execute_result"
    },
    {
     "data": {
      "text/plain": [
       "<ErrorbarContainer object of 3 artists>"
      ]
     },
     "execution_count": 30,
     "metadata": {},
     "output_type": "execute_result"
    },
    {
     "data": {
      "text/plain": [
       "(0.0, 1.0)"
      ]
     },
     "execution_count": 30,
     "metadata": {},
     "output_type": "execute_result"
    },
    {
     "data": {
      "text/plain": [
       "(0.001, 1.0)"
      ]
     },
     "execution_count": 30,
     "metadata": {},
     "output_type": "execute_result"
    },
    {
     "data": {
      "text/plain": [
       "Text(0.5, 0, 'Atelectasis')"
      ]
     },
     "execution_count": 30,
     "metadata": {},
     "output_type": "execute_result"
    },
    {
     "data": {
      "text/plain": [
       "Text(0, 0.5, 'Pleural')"
      ]
     },
     "execution_count": 30,
     "metadata": {},
     "output_type": "execute_result"
    },
    {
     "data": {
      "text/plain": [
       "<ErrorbarContainer object of 3 artists>"
      ]
     },
     "execution_count": 30,
     "metadata": {},
     "output_type": "execute_result"
    },
    {
     "data": {
      "text/plain": [
       "(0.0, 1.0)"
      ]
     },
     "execution_count": 30,
     "metadata": {},
     "output_type": "execute_result"
    },
    {
     "data": {
      "text/plain": [
       "(0.001, 1.0)"
      ]
     },
     "execution_count": 30,
     "metadata": {},
     "output_type": "execute_result"
    },
    {
     "data": {
      "text/plain": [
       "Text(0.5, 0, 'Atelectasis')"
      ]
     },
     "execution_count": 30,
     "metadata": {},
     "output_type": "execute_result"
    },
    {
     "data": {
      "text/plain": [
       "Text(0, 0.5, 'Pneumonia')"
      ]
     },
     "execution_count": 30,
     "metadata": {},
     "output_type": "execute_result"
    },
    {
     "data": {
      "text/plain": [
       "<ErrorbarContainer object of 3 artists>"
      ]
     },
     "execution_count": 30,
     "metadata": {},
     "output_type": "execute_result"
    },
    {
     "data": {
      "text/plain": [
       "(0.0, 1.0)"
      ]
     },
     "execution_count": 30,
     "metadata": {},
     "output_type": "execute_result"
    },
    {
     "data": {
      "text/plain": [
       "(0.001, 1.0)"
      ]
     },
     "execution_count": 30,
     "metadata": {},
     "output_type": "execute_result"
    },
    {
     "data": {
      "text/plain": [
       "Text(0.5, 0, 'Atelectasis')"
      ]
     },
     "execution_count": 30,
     "metadata": {},
     "output_type": "execute_result"
    },
    {
     "data": {
      "text/plain": [
       "Text(0, 0.5, 'Pneumothorax')"
      ]
     },
     "execution_count": 30,
     "metadata": {},
     "output_type": "execute_result"
    },
    {
     "data": {
      "image/png": "[encoded data removed]",
      "text/plain": [
       "<Figure size 2556x1116 with 14 Axes>"
      ]
     },
     "metadata": {
      "needs_background": "light"
     },
     "output_type": "display_data"
    }
   ],
   "source": [
    "fig, axs = plt.subplots(nrows=2, ncols=7, sharex=True)\n",
    "fig.set_size_inches(35.5, 15.5)\n",
    "count_num = 0\n",
    "x = np.arange(11) \n",
    "x = x / 10 \n",
    "for i in range(2):\n",
    "    for j in range(7):\n",
    "        ax = axs[i,j]\n",
    "        pathology = new_row_name[count_num]\n",
    "        y = result_mean[pathology].values.astype(float)\n",
    "        yerr = result_std[pathology].values.astype(float)\n",
    "        ax.errorbar(x, y, yerr=yerr, fmt='-o', ecolor='g', capsize=6)\n",
    "        ax.set_yscale('log')\n",
    "        ax.set_xlim([0.0, 1.0])\n",
    "        ax.set_ylim([0.001, 1.0])\n",
    "        ax.set_xlabel(label)\n",
    "        ax.set_ylabel(pathology)\n",
    "        count_num += 1"
   ]
  },
  {
   "cell_type": "code",
   "execution_count": 5,
   "metadata": {},
   "outputs": [
    {
     "data": {
      "text/plain": [
       "prob_Atelectasis           0.142571\n",
       "prob_Cardiomegaly          0.025346\n",
       "prob_Consolidation         0.033273\n",
       "prob_Edema                 0.016827\n",
       "prob_Effusion              0.094957\n",
       "prob_Emphysema             0.020726\n",
       "prob_Fibrosis              0.015991\n",
       "prob_Hernia                0.002277\n",
       "prob_Infiltration          0.191990\n",
       "prob_Mass                  0.041064\n",
       "prob_Nodule                0.041099\n",
       "prob_Pleural_Thickening    0.018387\n",
       "prob_Pneumonia             0.015402\n",
       "prob_Pneumothorax          0.052554\n",
       "dtype: float64"
      ]
     },
     "execution_count": 5,
     "metadata": {},
     "output_type": "execute_result"
    }
   ],
   "source": [
    "pred_pd = pd.read_csv('C:/Users/peter/2080Ti/Jupyter/Fabian_experiment/preds.csv')\n",
    "pred_pd.mean(axis=0)"
   ]
  },
  {
   "cell_type": "code",
   "execution_count": 6,
   "metadata": {},
   "outputs": [
    {
     "data": {
      "text/plain": [
       "['Atelectasis',\n",
       " 'Cardiomegaly',\n",
       " 'Consolidation',\n",
       " 'Edema',\n",
       " 'Effusion',\n",
       " 'Emphysema',\n",
       " 'Fibrosis',\n",
       " 'Hernia',\n",
       " 'Infiltration',\n",
       " 'Mass',\n",
       " 'Nodule',\n",
       " 'Pleural_Thickening',\n",
       " 'Pneumonia',\n",
       " 'Pneumothorax']"
      ]
     },
     "execution_count": 6,
     "metadata": {},
     "output_type": "execute_result"
    }
   ],
   "source": [
    "row_name = pred_pd.columns[1:]\n",
    "new_row_name = []\n",
    "for i in range(len(row_name)):\n",
    "    new_row_name.append(row_name[i].split('_')[1])\n",
    "new_row_name[-3] = 'Pleural_Thickening'\n",
    "new_row_name"
   ]
  }
 ],
 "metadata": {
  "kernelspec": {
   "display_name": "Python 3",
   "language": "python",
   "name": "python3"
  },
  "language_info": {
   "codemirror_mode": {
    "name": "ipython",
    "version": 3
   },
   "file_extension": ".py",
   "mimetype": "text/x-python",
   "name": "python",
   "nbconvert_exporter": "python",
   "pygments_lexer": "ipython3",
   "version": "3.6.8"
  }
 },
 "nbformat": 4,
 "nbformat_minor": 2
}
